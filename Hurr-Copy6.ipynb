{
 "cells": [
  {
   "cell_type": "code",
   "execution_count": 1,
   "id": "24e84ef4",
   "metadata": {},
   "outputs": [],
   "source": [
    "import tensorflow as tf\n",
    "import tensorflow as tf\n",
    "from tensorflow import keras\n",
    "import keras\n",
    "\n",
    "import os\n",
    "import tempfile\n",
    "\n",
    "import matplotlib as mpl\n",
    "import matplotlib.pyplot as plt\n",
    "import numpy as np\n",
    "import pandas as pd\n",
    "import seaborn as sns\n",
    "\n",
    "import sklearn\n",
    "from sklearn.metrics import confusion_matrix\n",
    "from sklearn.model_selection import train_test_split\n",
    "from sklearn.preprocessing import StandardScaler\n"
   ]
  },
  {
   "cell_type": "code",
   "execution_count": 2,
   "id": "506d94ae",
   "metadata": {},
   "outputs": [
    {
     "name": "stdout",
     "output_type": "stream",
     "text": [
      "WARNING:tensorflow:From C:\\Users\\samue\\AppData\\Local\\Temp\\ipykernel_8584\\2777403463.py:1: is_gpu_available (from tensorflow.python.framework.test_util) is deprecated and will be removed in a future version.\n",
      "Instructions for updating:\n",
      "Use `tf.config.list_physical_devices('GPU')` instead.\n",
      "True\n"
     ]
    }
   ],
   "source": [
    "print (tf.test.is_gpu_available())"
   ]
  },
  {
   "cell_type": "code",
   "execution_count": 3,
   "id": "103ba179",
   "metadata": {},
   "outputs": [],
   "source": [
    "df = pd.read_csv(\"Hurricanes2.csv\")\n",
    "df =df.dropna()"
   ]
  },
  {
   "cell_type": "code",
   "execution_count": 4,
   "id": "9094fc84",
   "metadata": {},
   "outputs": [
    {
     "name": "stdout",
     "output_type": "stream",
     "text": [
      "                 time    lon   lat         slp     airsfc    pr_wtr  \\\n",
      "158        1980-06-07    0.0  90.0  1007.98004  267.14000  6.160004   \n",
      "159        1980-06-08    0.0  90.0  1008.22003  269.63000  7.720001   \n",
      "160        1980-06-09    0.0  90.0  1010.36005  265.36000  9.940002   \n",
      "161        1980-06-10    0.0  90.0  1010.45000  272.27002  9.220001   \n",
      "162        1980-06-11    0.0  90.0  1009.39000  270.80000  4.820007   \n",
      "...               ...    ...   ...         ...        ...       ...   \n",
      "165101467  2022-12-27  357.5 -90.0   977.55005  251.40000  1.100006   \n",
      "165101468  2022-12-28  357.5 -90.0   981.80005  249.14000  0.869995   \n",
      "165101469  2022-12-29  357.5 -90.0   983.10004  249.09000  0.850006   \n",
      "165101470  2022-12-30  357.5 -90.0   985.34000  246.56000  0.809998   \n",
      "165101471  2022-12-31  357.5 -90.0   984.73004  248.43000  0.820007   \n",
      "\n",
      "             rhumsfc       trpp      uwnd      vwnd       trpt  Hurricane  \n",
      "158        74.550000  351.71106  4.429993  1.759994  229.15000          0  \n",
      "159        87.229996  359.18445  1.720001  2.369995  228.44000          0  \n",
      "160        98.000000  359.58203 -2.250000 -0.180008  228.54000          0  \n",
      "161        84.970000  325.23254  0.759995 -3.899994  224.31000          0  \n",
      "162        70.569990  358.17737  4.089996 -1.889999  226.87000          0  \n",
      "...              ...        ...       ...       ...        ...        ...  \n",
      "165101467  90.500000  296.52646  4.470001 -5.479996  214.73001          0  \n",
      "165101468  86.500000  311.99255  3.259994 -6.190002  216.93000          0  \n",
      "165101469  83.200000  316.47806 -1.570007 -5.160004  216.70999          0  \n",
      "165101470  89.800000  300.70200 -2.680008 -1.970001  216.06000          0  \n",
      "165101471  87.000000  287.74597 -4.050003 -1.270004  216.43000          0  \n",
      "\n",
      "[163440576 rows x 12 columns]\n"
     ]
    }
   ],
   "source": [
    "print (df)"
   ]
  },
  {
   "cell_type": "code",
   "execution_count": 5,
   "id": "d94baf43",
   "metadata": {},
   "outputs": [
    {
     "name": "stdout",
     "output_type": "stream",
     "text": [
      "Examples:\n",
      "    Total: 163440576\n",
      "    Positive: 1525 (0.0009% of total)\n",
      "\n"
     ]
    }
   ],
   "source": [
    "neg, pos = np.bincount(df['Hurricane'])\n",
    "total = neg + pos\n",
    "print('Examples:\\n    Total: {}\\n    Positive: {} ({:.4f}% of total)\\n'.format(\n",
    "    total, pos, 100 * pos / total))\n"
   ]
  },
  {
   "cell_type": "code",
   "execution_count": 6,
   "id": "4af18193",
   "metadata": {},
   "outputs": [],
   "source": [
    "month = []\n",
    "year = []\n",
    "day = []\n",
    "for i in df[\"time\"].index:\n",
    "    month.append(float(str(df.at[i, \"time\"])[5:7]))\n",
    "    year.append(float(str(df.at[i, \"time\"])[0:4]))\n",
    "    #day.append(float(str(df.at[i, \"time\"])[8:]))"
   ]
  },
  {
   "cell_type": "code",
   "execution_count": 7,
   "id": "3b542034",
   "metadata": {},
   "outputs": [],
   "source": [
    "def plot_cm(labels, predictions, threshold=0.5):\n",
    "    cm = confusion_matrix(labels, predictions > threshold)\n",
    "    plt.figure(figsize=(5,5))\n",
    "    sns.heatmap(cm, annot=True, fmt=\"d\")\n",
    "    plt.title('Confusion matrix @{:.2f}'.format(threshold))\n",
    "    plt.ylabel('Actual label')\n",
    "    plt.xlabel('Predicted label')\n",
    "\n",
    "    print('Not Hurricane (True Negatives): ', cm[0][0])\n",
    "    print('False Hurricane Predcition (False Positives): ', cm[0][1])\n",
    "    print('Missed Hurricane (False Negatives): ', cm[1][0])\n",
    "    print('Hurricanes Found (True Positives): ', cm[1][1])\n",
    "    print('Total Hurricanes: ', np.sum(cm[1]))\n"
   ]
  },
  {
   "cell_type": "code",
   "execution_count": 8,
   "id": "9764234b",
   "metadata": {},
   "outputs": [],
   "source": [
    "cleaned_df = df.copy()\n",
    "#cleaned_df.pop(\"lon\")\n",
    "#leaned_df.pop(\"lat\")\n",
    "# You don't want the `Time` column.\n",
    "\n",
    "cleaned_df.pop('time')\n",
    "cleaned_df[\"month\"] = month\n",
    "cleaned_df[\"year\"] = year\n",
    "#cleaned_df[\"day\"] = day\n",
    "cleaned_df.insert(0, \"year\", cleaned_df.pop(\"year\"))\n",
    "cleaned_df.insert(0, \"month\", cleaned_df.pop(\"month\"))\n"
   ]
  },
  {
   "cell_type": "code",
   "execution_count": 9,
   "id": "a2636720",
   "metadata": {},
   "outputs": [
    {
     "name": "stdout",
     "output_type": "stream",
     "text": [
      "           month    year    lon   lat         slp     airsfc    pr_wtr  \\\n",
      "158          6.0  1980.0    0.0  90.0  1007.98004  267.14000  6.160004   \n",
      "159          6.0  1980.0    0.0  90.0  1008.22003  269.63000  7.720001   \n",
      "160          6.0  1980.0    0.0  90.0  1010.36005  265.36000  9.940002   \n",
      "161          6.0  1980.0    0.0  90.0  1010.45000  272.27002  9.220001   \n",
      "162          6.0  1980.0    0.0  90.0  1009.39000  270.80000  4.820007   \n",
      "...          ...     ...    ...   ...         ...        ...       ...   \n",
      "165101467   12.0  2022.0  357.5 -90.0   977.55005  251.40000  1.100006   \n",
      "165101468   12.0  2022.0  357.5 -90.0   981.80005  249.14000  0.869995   \n",
      "165101469   12.0  2022.0  357.5 -90.0   983.10004  249.09000  0.850006   \n",
      "165101470   12.0  2022.0  357.5 -90.0   985.34000  246.56000  0.809998   \n",
      "165101471   12.0  2022.0  357.5 -90.0   984.73004  248.43000  0.820007   \n",
      "\n",
      "             rhumsfc       trpp      uwnd      vwnd       trpt  Hurricane  \n",
      "158        74.550000  351.71106  4.429993  1.759994  229.15000          0  \n",
      "159        87.229996  359.18445  1.720001  2.369995  228.44000          0  \n",
      "160        98.000000  359.58203 -2.250000 -0.180008  228.54000          0  \n",
      "161        84.970000  325.23254  0.759995 -3.899994  224.31000          0  \n",
      "162        70.569990  358.17737  4.089996 -1.889999  226.87000          0  \n",
      "...              ...        ...       ...       ...        ...        ...  \n",
      "165101467  90.500000  296.52646  4.470001 -5.479996  214.73001          0  \n",
      "165101468  86.500000  311.99255  3.259994 -6.190002  216.93000          0  \n",
      "165101469  83.200000  316.47806 -1.570007 -5.160004  216.70999          0  \n",
      "165101470  89.800000  300.70200 -2.680008 -1.970001  216.06000          0  \n",
      "165101471  87.000000  287.74597 -4.050003 -1.270004  216.43000          0  \n",
      "\n",
      "[163440576 rows x 13 columns]\n"
     ]
    }
   ],
   "source": [
    "print (cleaned_df)"
   ]
  },
  {
   "cell_type": "code",
   "execution_count": 10,
   "id": "ffdf12d5",
   "metadata": {},
   "outputs": [],
   "source": [
    "# Use a utility from sklearn to split and shuffle your dataset.\n",
    "train_df, test_df = train_test_split(cleaned_df, test_size=0.2)\n",
    "train_df, val_df = train_test_split(train_df, test_size=0.2)\n",
    "\n",
    "# Form np arrays of labels and features.\n",
    "train_labels = np.array(train_df.pop('Hurricane'))\n",
    "bool_train_labels = train_labels != 0\n",
    "val_labels = np.array(val_df.pop('Hurricane'))\n",
    "test_labels = np.array(test_df.pop('Hurricane'))\n",
    "\n",
    "train_features = np.array(train_df)\n",
    "val_features = np.array(val_df)\n",
    "test_features = np.array(test_df)\n"
   ]
  },
  {
   "cell_type": "code",
   "execution_count": 11,
   "id": "c61a0054",
   "metadata": {},
   "outputs": [
    {
     "name": "stdout",
     "output_type": "stream",
     "text": [
      "Average hurricane probability in training set:   0.0000093593\n",
      "Average hurricane probability in validation set: 0.0000092159\n",
      "Average hurricane probability in test set:       0.0000093306\n"
     ]
    }
   ],
   "source": [
    "print(f'Average hurricane probability in training set:   {train_labels.mean():.10f}')\n",
    "print(f'Average hurricane probability in validation set: {val_labels.mean():.10f}')\n",
    "print(f'Average hurricane probability in test set:       {test_labels.mean():.10f}')\n"
   ]
  },
  {
   "cell_type": "code",
   "execution_count": 12,
   "id": "cd27241b",
   "metadata": {},
   "outputs": [],
   "source": [
    "month = []\n",
    "year = []\n",
    "day = []\n",
    "df = pd.DataFrame()"
   ]
  },
  {
   "cell_type": "code",
   "execution_count": 18,
   "id": "0fd5999a",
   "metadata": {},
   "outputs": [],
   "source": [
    "METRICS = [\n",
    "      keras.metrics.BinaryCrossentropy(name='cross entropy'),  # same as model's loss\n",
    "      keras.metrics.MeanSquaredError(name='Brier score'),\n",
    "      keras.metrics.TruePositives(name='tp'),\n",
    "      keras.metrics.FalsePositives(name='fp'),\n",
    "      keras.metrics.TrueNegatives(name='tn'),\n",
    "      keras.metrics.FalseNegatives(name='fn'), \n",
    "      keras.metrics.BinaryAccuracy(name='accuracy'),\n",
    "      keras.metrics.Precision(name='precision'),\n",
    "      keras.metrics.Recall(name='recall'),\n",
    "      keras.metrics.AUC(name='auc'),\n",
    "      keras.metrics.AUC(name='prc', curve='PR') # precision-recall curve\n",
    "      #keras.metrics.F1Score(name = 'f1_score')\n",
    "]\n"
   ]
  },
  {
   "cell_type": "code",
   "execution_count": 19,
   "id": "916c9346",
   "metadata": {},
   "outputs": [],
   "source": [
    "def make_model(metrics=METRICS, output_bias=None):\n",
    "    if output_bias is not None:\n",
    "        output_bias = tf.keras.initializers.Constant(output_bias)\n",
    "    model = tf.keras.Sequential([\n",
    "        keras.layers.Input(shape=(train_features.shape[-1],)),  # Adjust num_features based on your actual feature dimensions\n",
    "        keras.layers.Dense(32, activation='relu'),\n",
    "        keras.layers.BatchNormalization(),\n",
    "        keras.layers.Dropout(0.6),\n",
    "        keras.layers.Dense(32, activation=\"relu\"),\n",
    "        keras.layers.BatchNormalization(),\n",
    "        keras.layers.Dropout(0.6),\n",
    "        keras.layers.Dense(16, activation = \"relu\"),\n",
    "        keras.layers.BatchNormalization(),\n",
    "        keras.layers.Dropout(0.5),\n",
    "\n",
    "        keras.layers.Dense(1, activation='sigmoid')  # Output layer with sigmoid activation for binary classification\n",
    "        ])\n",
    "\n",
    "    model.compile(\n",
    "      optimizer=keras.optimizers.Adam(learning_rate=1e-3),\n",
    "      loss=keras.losses.BinaryCrossentropy(),\n",
    "      metrics=metrics)\n",
    "\n",
    "    return model"
   ]
  },
  {
   "cell_type": "code",
   "execution_count": 20,
   "id": "add7ef3f",
   "metadata": {},
   "outputs": [
    {
     "data": {
      "text/plain": [
       "array([-11.58220101])"
      ]
     },
     "execution_count": 20,
     "metadata": {},
     "output_type": "execute_result"
    }
   ],
   "source": [
    "initial_bias = np.log([pos/neg])\n",
    "initial_bias"
   ]
  },
  {
   "cell_type": "code",
   "execution_count": 21,
   "id": "58b6644e",
   "metadata": {},
   "outputs": [],
   "source": [
    "EPOCHS = 100\n",
    "BATCH_SIZE = 16384\n",
    "early_stopping = tf.keras.callbacks.EarlyStopping(\n",
    "    monitor='val_prc', \n",
    "    verbose=1,\n",
    "    patience=20,\n",
    "    mode='max',\n",
    "    restore_best_weights=True)\n",
    "\n"
   ]
  },
  {
   "cell_type": "code",
   "execution_count": 22,
   "id": "dcfa186b",
   "metadata": {},
   "outputs": [],
   "source": [
    "pos_features = train_features[bool_train_labels]\n",
    "neg_features = train_features[~bool_train_labels]\n",
    "\n",
    "pos_labels = train_labels[bool_train_labels]\n",
    "neg_labels = train_labels[~bool_train_labels]\n"
   ]
  },
  {
   "cell_type": "code",
   "execution_count": 23,
   "id": "885d948c",
   "metadata": {},
   "outputs": [],
   "source": [
    "BUFFER_SIZE = 104601968\n",
    "\n",
    "def make_ds(features, labels):\n",
    "    ds = tf.data.Dataset.from_tensor_slices((features, labels))#.cache()\n",
    "    ds = ds.shuffle(BUFFER_SIZE).repeat()\n",
    "    return ds\n",
    "\n",
    "pos_ds = make_ds(pos_features, pos_labels)\n",
    "neg_ds = make_ds(neg_features, neg_labels)\n"
   ]
  },
  {
   "cell_type": "code",
   "execution_count": 24,
   "id": "727d419f",
   "metadata": {},
   "outputs": [],
   "source": [
    "resampled_ds = tf.data.Dataset.sample_from_datasets([pos_ds, neg_ds], weights=[0.5, 0.5])\n",
    "resampled_ds = resampled_ds.batch(BATCH_SIZE).prefetch(2)\n"
   ]
  },
  {
   "cell_type": "code",
   "execution_count": 25,
   "id": "e243c39d",
   "metadata": {},
   "outputs": [
    {
     "name": "stdout",
     "output_type": "stream",
     "text": [
      "0.5006103515625\n"
     ]
    }
   ],
   "source": [
    "for features, label in resampled_ds.take(1):\n",
    "    print(label.numpy().mean())\n"
   ]
  },
  {
   "cell_type": "code",
   "execution_count": 26,
   "id": "0d4091d5",
   "metadata": {},
   "outputs": [
    {
     "data": {
      "text/plain": [
       "9976.0"
      ]
     },
     "execution_count": 26,
     "metadata": {},
     "output_type": "execute_result"
    }
   ],
   "source": [
    "resampled_steps_per_epoch = np.ceil(neg/BATCH_SIZE)\n",
    "resampled_steps_per_epoch"
   ]
  },
  {
   "cell_type": "code",
   "execution_count": 27,
   "id": "dada13fa",
   "metadata": {},
   "outputs": [
    {
     "name": "stdout",
     "output_type": "stream",
     "text": [
      "Epoch 1/300\n",
      "60/60 [==============================] - 297s 1s/step - loss: 0.6166 - cross entropy: 0.6166 - Brier score: 0.2008 - tp: 361399.0000 - fp: 165312.0000 - tn: 326037.0000 - fn: 130292.0000 - accuracy: 0.6993 - precision: 0.6861 - recall: 0.7350 - auc: 0.7614 - prc: 0.6900 - val_loss: 1.4185 - val_cross entropy: 1.4185 - val_Brier score: 0.3946 - val_tp: 241.0000 - val_fp: 13418651.0000 - val_tn: 12731600.0000 - val_fn: 0.0000e+00 - val_accuracy: 0.4869 - val_precision: 1.7960e-05 - val_recall: 1.0000 - val_auc: 0.9168 - val_prc: 5.2794e-05\n",
      "Epoch 2/300\n",
      "60/60 [==============================] - 43s 721ms/step - loss: 0.3737 - cross entropy: 0.3737 - Brier score: 0.1145 - tp: 436736.0000 - fp: 95527.0000 - tn: 395209.0000 - fn: 55568.0000 - accuracy: 0.8463 - precision: 0.8205 - recall: 0.8871 - auc: 0.9110 - prc: 0.8765 - val_loss: 0.0057 - val_cross entropy: 0.0057 - val_Brier score: 9.1397e-05 - val_tp: 0.0000e+00 - val_fp: 0.0000e+00 - val_tn: 26150316.0000 - val_fn: 241.0000 - val_accuracy: 1.0000 - val_precision: 0.0000e+00 - val_recall: 0.0000e+00 - val_auc: 0.8968 - val_prc: 4.2273e-05\n",
      "Epoch 3/300\n",
      "60/60 [==============================] - 44s 743ms/step - loss: 0.2733 - cross entropy: 0.2733 - Brier score: 0.0793 - tp: 459052.0000 - fp: 64688.0000 - tn: 426430.0000 - fn: 32870.0000 - accuracy: 0.9008 - precision: 0.8765 - recall: 0.9332 - auc: 0.9520 - prc: 0.9333 - val_loss: 1.3018e-04 - val_cross entropy: 1.3018e-04 - val_Brier score: 9.2159e-06 - val_tp: 0.0000e+00 - val_fp: 0.0000e+00 - val_tn: 26150316.0000 - val_fn: 241.0000 - val_accuracy: 1.0000 - val_precision: 0.0000e+00 - val_recall: 0.0000e+00 - val_auc: 0.5000 - val_prc: 9.2159e-06\n",
      "Epoch 4/300\n",
      "60/60 [==============================] - 40s 678ms/step - loss: 0.2218 - cross entropy: 0.2218 - Brier score: 0.0619 - tp: 467324.0000 - fp: 50868.0000 - tn: 441992.0000 - fn: 22856.0000 - accuracy: 0.9250 - precision: 0.9018 - recall: 0.9534 - auc: 0.9670 - prc: 0.9540 - val_loss: 1.6533e-04 - val_cross entropy: 1.6533e-04 - val_Brier score: 9.2159e-06 - val_tp: 0.0000e+00 - val_fp: 0.0000e+00 - val_tn: 26150316.0000 - val_fn: 241.0000 - val_accuracy: 1.0000 - val_precision: 0.0000e+00 - val_recall: 0.0000e+00 - val_auc: 0.5000 - val_prc: 9.2159e-06\n",
      "Epoch 5/300\n",
      "60/60 [==============================] - 37s 632ms/step - loss: 0.1932 - cross entropy: 0.1932 - Brier score: 0.0524 - tp: 473330.0000 - fp: 42783.0000 - tn: 447897.0000 - fn: 19030.0000 - accuracy: 0.9371 - precision: 0.9171 - recall: 0.9613 - auc: 0.9738 - prc: 0.9637 - val_loss: 1.1929e-04 - val_cross entropy: 1.1929e-04 - val_Brier score: 9.2158e-06 - val_tp: 0.0000e+00 - val_fp: 0.0000e+00 - val_tn: 26150316.0000 - val_fn: 241.0000 - val_accuracy: 1.0000 - val_precision: 0.0000e+00 - val_recall: 0.0000e+00 - val_auc: 0.5000 - val_prc: 9.2159e-06\n",
      "Epoch 6/300\n",
      "60/60 [==============================] - 37s 620ms/step - loss: 0.1759 - cross entropy: 0.1759 - Brier score: 0.0469 - tp: 475252.0000 - fp: 38132.0000 - tn: 453016.0000 - fn: 16640.0000 - accuracy: 0.9443 - precision: 0.9257 - recall: 0.9662 - auc: 0.9774 - prc: 0.9684 - val_loss: 9.2227e-05 - val_cross entropy: 9.2227e-05 - val_Brier score: 9.2140e-06 - val_tp: 0.0000e+00 - val_fp: 0.0000e+00 - val_tn: 26150316.0000 - val_fn: 241.0000 - val_accuracy: 1.0000 - val_precision: 0.0000e+00 - val_recall: 0.0000e+00 - val_auc: 0.5000 - val_prc: 9.2157e-06\n",
      "Epoch 7/300\n",
      "60/60 [==============================] - 38s 652ms/step - loss: 0.1659 - cross entropy: 0.1659 - Brier score: 0.0437 - tp: 476027.0000 - fp: 35755.0000 - tn: 455889.0000 - fn: 15369.0000 - accuracy: 0.9480 - precision: 0.9301 - recall: 0.9687 - auc: 0.9793 - prc: 0.9710 - val_loss: 6.1897e-04 - val_cross entropy: 6.1897e-04 - val_Brier score: 3.4199e-05 - val_tp: 0.0000e+00 - val_fp: 321.0000 - val_tn: 26150016.0000 - val_fn: 241.0000 - val_accuracy: 1.0000 - val_precision: 0.0000e+00 - val_recall: 0.0000e+00 - val_auc: 0.9433 - val_prc: 8.7148e-04\n",
      "Epoch 8/300\n",
      "60/60 [==============================] - 38s 647ms/step - loss: 0.1573 - cross entropy: 0.1573 - Brier score: 0.0409 - tp: 477128.0000 - fp: 33378.0000 - tn: 458459.0000 - fn: 14075.0000 - accuracy: 0.9517 - precision: 0.9346 - recall: 0.9713 - auc: 0.9808 - prc: 0.9726 - val_loss: 0.0228 - val_cross entropy: 0.0228 - val_Brier score: 0.0067 - val_tp: 191.0000 - val_fp: 245303.0000 - val_tn: 25904960.0000 - val_fn: 50.0000 - val_accuracy: 0.9906 - val_precision: 7.7802e-04 - val_recall: 0.7925 - val_auc: 0.9932 - val_prc: 0.0011\n",
      "Epoch 9/300\n",
      "60/60 [==============================] - 37s 622ms/step - loss: 0.1514 - cross entropy: 0.1514 - Brier score: 0.0391 - tp: 478092.0000 - fp: 32033.0000 - tn: 459540.0000 - fn: 13375.0000 - accuracy: 0.9538 - precision: 0.9372 - recall: 0.9728 - auc: 0.9818 - prc: 0.9738 - val_loss: 0.0389 - val_cross entropy: 0.0389 - val_Brier score: 0.0120 - val_tp: 221.0000 - val_fp: 444126.0000 - val_tn: 25706170.0000 - val_fn: 20.0000 - val_accuracy: 0.9830 - val_precision: 4.9736e-04 - val_recall: 0.9170 - val_auc: 0.9936 - val_prc: 0.0012\n",
      "Epoch 10/300\n",
      "60/60 [==============================] - 37s 618ms/step - loss: 0.1459 - cross entropy: 0.1459 - Brier score: 0.0374 - tp: 478970.0000 - fp: 30557.0000 - tn: 460789.0000 - fn: 12724.0000 - accuracy: 0.9560 - precision: 0.9400 - recall: 0.9741 - auc: 0.9828 - prc: 0.9753 - val_loss: 0.0316 - val_cross entropy: 0.0316 - val_Brier score: 0.0096 - val_tp: 215.0000 - val_fp: 347982.0000 - val_tn: 25802276.0000 - val_fn: 26.0000 - val_accuracy: 0.9867 - val_precision: 6.1747e-04 - val_recall: 0.8921 - val_auc: 0.9938 - val_prc: 0.0011\n",
      "Epoch 11/300\n",
      "60/60 [==============================] - 38s 652ms/step - loss: 0.1413 - cross entropy: 0.1413 - Brier score: 0.0360 - tp: 478062.0000 - fp: 29437.0000 - tn: 463239.0000 - fn: 12302.0000 - accuracy: 0.9575 - precision: 0.9420 - recall: 0.9749 - auc: 0.9836 - prc: 0.9762 - val_loss: 0.1085 - val_cross entropy: 0.1085 - val_Brier score: 0.0334 - val_tp: 241.0000 - val_fp: 1155255.0000 - val_tn: 24995026.0000 - val_fn: 0.0000e+00 - val_accuracy: 0.9558 - val_precision: 2.0857e-04 - val_recall: 1.0000 - val_auc: 0.9944 - val_prc: 0.0013\n",
      "Epoch 12/300\n",
      "60/60 [==============================] - 35s 598ms/step - loss: 0.1369 - cross entropy: 0.1369 - Brier score: 0.0347 - tp: 480064.0000 - fp: 28289.0000 - tn: 462700.0000 - fn: 11987.0000 - accuracy: 0.9590 - precision: 0.9444 - recall: 0.9756 - auc: 0.9844 - prc: 0.9773 - val_loss: 0.2234 - val_cross entropy: 0.2234 - val_Brier score: 0.0659 - val_tp: 241.0000 - val_fp: 2200851.0000 - val_tn: 23949386.0000 - val_fn: 0.0000e+00 - val_accuracy: 0.9158 - val_precision: 1.0949e-04 - val_recall: 1.0000 - val_auc: 0.9941 - val_prc: 0.0012\n",
      "Epoch 13/300\n",
      "60/60 [==============================] - 36s 614ms/step - loss: 0.1345 - cross entropy: 0.1345 - Brier score: 0.0341 - tp: 478831.0000 - fp: 27969.0000 - tn: 464585.0000 - fn: 11655.0000 - accuracy: 0.9597 - precision: 0.9448 - recall: 0.9762 - auc: 0.9848 - prc: 0.9777 - val_loss: 0.1143 - val_cross entropy: 0.1143 - val_Brier score: 0.0350 - val_tp: 240.0000 - val_fp: 1189154.0000 - val_tn: 24961104.0000 - val_fn: 1.0000 - val_accuracy: 0.9545 - val_precision: 2.0178e-04 - val_recall: 0.9959 - val_auc: 0.9934 - val_prc: 0.0012\n",
      "Epoch 14/300\n",
      "60/60 [==============================] - 35s 598ms/step - loss: 0.1313 - cross entropy: 0.1313 - Brier score: 0.0331 - tp: 480024.0000 - fp: 27194.0000 - tn: 464499.0000 - fn: 11323.0000 - accuracy: 0.9608 - precision: 0.9464 - recall: 0.9770 - auc: 0.9853 - prc: 0.9782 - val_loss: 0.2615 - val_cross entropy: 0.2615 - val_Brier score: 0.0743 - val_tp: 241.0000 - val_fp: 2404226.0000 - val_tn: 23746034.0000 - val_fn: 0.0000e+00 - val_accuracy: 0.9081 - val_precision: 1.0023e-04 - val_recall: 1.0000 - val_auc: 0.9920 - val_prc: 9.8825e-04\n",
      "Epoch 15/300\n",
      "60/60 [==============================] - 35s 599ms/step - loss: 0.1274 - cross entropy: 0.1274 - Brier score: 0.0322 - tp: 479973.0000 - fp: 26403.0000 - tn: 465556.0000 - fn: 11108.0000 - accuracy: 0.9618 - precision: 0.9479 - recall: 0.9774 - auc: 0.9861 - prc: 0.9795 - val_loss: 0.3211 - val_cross entropy: 0.3211 - val_Brier score: 0.0928 - val_tp: 241.0000 - val_fp: 3098913.0000 - val_tn: 23051340.0000 - val_fn: 0.0000e+00 - val_accuracy: 0.8815 - val_precision: 7.7763e-05 - val_recall: 1.0000 - val_auc: 0.9918 - val_prc: 8.3923e-04\n"
     ]
    },
    {
     "name": "stdout",
     "output_type": "stream",
     "text": [
      "Epoch 16/300\n",
      "60/60 [==============================] - 37s 634ms/step - loss: 0.1254 - cross entropy: 0.1254 - Brier score: 0.0315 - tp: 480804.0000 - fp: 26057.0000 - tn: 465429.0000 - fn: 10750.0000 - accuracy: 0.9626 - precision: 0.9486 - recall: 0.9781 - auc: 0.9863 - prc: 0.9796 - val_loss: 0.2487 - val_cross entropy: 0.2487 - val_Brier score: 0.0733 - val_tp: 241.0000 - val_fp: 2451764.0000 - val_tn: 23698468.0000 - val_fn: 0.0000e+00 - val_accuracy: 0.9062 - val_precision: 9.8287e-05 - val_recall: 1.0000 - val_auc: 0.9914 - val_prc: 8.5835e-04\n",
      "Epoch 17/300\n",
      "60/60 [==============================] - 39s 655ms/step - loss: 0.1232 - cross entropy: 0.1232 - Brier score: 0.0310 - tp: 480881.0000 - fp: 25590.0000 - tn: 465856.0000 - fn: 10713.0000 - accuracy: 0.9631 - precision: 0.9495 - recall: 0.9782 - auc: 0.9866 - prc: 0.9800 - val_loss: 0.2694 - val_cross entropy: 0.2694 - val_Brier score: 0.0765 - val_tp: 241.0000 - val_fp: 2461019.0000 - val_tn: 23689218.0000 - val_fn: 0.0000e+00 - val_accuracy: 0.9059 - val_precision: 9.7917e-05 - val_recall: 1.0000 - val_auc: 0.9936 - val_prc: 0.0011\n",
      "Epoch 18/300\n",
      "60/60 [==============================] - 41s 691ms/step - loss: 0.1208 - cross entropy: 0.1208 - Brier score: 0.0304 - tp: 480833.0000 - fp: 25396.0000 - tn: 466561.0000 - fn: 10250.0000 - accuracy: 0.9637 - precision: 0.9498 - recall: 0.9791 - auc: 0.9870 - prc: 0.9807 - val_loss: 0.3644 - val_cross entropy: 0.3644 - val_Brier score: 0.1014 - val_tp: 241.0000 - val_fp: 3233188.0000 - val_tn: 22917076.0000 - val_fn: 0.0000e+00 - val_accuracy: 0.8764 - val_precision: 7.4534e-05 - val_recall: 1.0000 - val_auc: 0.9933 - val_prc: 9.4390e-04\n",
      "Epoch 19/300\n",
      "60/60 [==============================] - 40s 679ms/step - loss: 0.1182 - cross entropy: 0.1182 - Brier score: 0.0298 - tp: 482167.0000 - fp: 24921.0000 - tn: 465818.0000 - fn: 10134.0000 - accuracy: 0.9643 - precision: 0.9509 - recall: 0.9794 - auc: 0.9874 - prc: 0.9814 - val_loss: 0.2512 - val_cross entropy: 0.2512 - val_Brier score: 0.0729 - val_tp: 241.0000 - val_fp: 2394314.0000 - val_tn: 23755922.0000 - val_fn: 0.0000e+00 - val_accuracy: 0.9084 - val_precision: 1.0065e-04 - val_recall: 1.0000 - val_auc: 0.9941 - val_prc: 0.0011\n",
      "Epoch 20/300\n",
      "60/60 [==============================] - 43s 726ms/step - loss: 0.1174 - cross entropy: 0.1174 - Brier score: 0.0295 - tp: 481674.0000 - fp: 25127.0000 - tn: 466625.0000 - fn: 9614.0000 - accuracy: 0.9647 - precision: 0.9504 - recall: 0.9804 - auc: 0.9874 - prc: 0.9813 - val_loss: 0.2899 - val_cross entropy: 0.2899 - val_Brier score: 0.0832 - val_tp: 241.0000 - val_fp: 2728746.0000 - val_tn: 23421492.0000 - val_fn: 0.0000e+00 - val_accuracy: 0.8957 - val_precision: 8.8311e-05 - val_recall: 1.0000 - val_auc: 0.9939 - val_prc: 0.0011\n",
      "Epoch 21/300\n",
      "60/60 [==============================] - 37s 623ms/step - loss: 0.1157 - cross entropy: 0.1157 - Brier score: 0.0292 - tp: 481452.0000 - fp: 25012.0000 - tn: 466992.0000 - fn: 9584.0000 - accuracy: 0.9648 - precision: 0.9506 - recall: 0.9805 - auc: 0.9878 - prc: 0.9819 - val_loss: 0.2476 - val_cross entropy: 0.2476 - val_Brier score: 0.0723 - val_tp: 241.0000 - val_fp: 2395822.0000 - val_tn: 23754432.0000 - val_fn: 0.0000e+00 - val_accuracy: 0.9084 - val_precision: 1.0058e-04 - val_recall: 1.0000 - val_auc: 0.9939 - val_prc: 0.0011\n",
      "Epoch 22/300\n",
      "60/60 [==============================] - 34s 578ms/step - loss: 0.1149 - cross entropy: 0.1149 - Brier score: 0.0289 - tp: 481904.0000 - fp: 24845.0000 - tn: 466920.0000 - fn: 9371.0000 - accuracy: 0.9652 - precision: 0.9510 - recall: 0.9809 - auc: 0.9878 - prc: 0.9818 - val_loss: 0.1087 - val_cross entropy: 0.1087 - val_Brier score: 0.0331 - val_tp: 241.0000 - val_fp: 1141477.0000 - val_tn: 25008756.0000 - val_fn: 0.0000e+00 - val_accuracy: 0.9563 - val_precision: 2.1109e-04 - val_recall: 1.0000 - val_auc: 0.9941 - val_prc: 0.0011\n",
      "Epoch 23/300\n",
      "60/60 [==============================] - 35s 592ms/step - loss: 0.1134 - cross entropy: 0.1134 - Brier score: 0.0286 - tp: 482665.0000 - fp: 24888.0000 - tn: 466416.0000 - fn: 9071.0000 - accuracy: 0.9655 - precision: 0.9510 - recall: 0.9816 - auc: 0.9882 - prc: 0.9823 - val_loss: 0.1278 - val_cross entropy: 0.1278 - val_Brier score: 0.0385 - val_tp: 241.0000 - val_fp: 1333431.0000 - val_tn: 24816814.0000 - val_fn: 0.0000e+00 - val_accuracy: 0.9490 - val_precision: 1.8070e-04 - val_recall: 1.0000 - val_auc: 0.9939 - val_prc: 0.0010\n",
      "Epoch 24/300\n",
      "60/60 [==============================] - 35s 601ms/step - loss: 0.1129 - cross entropy: 0.1129 - Brier score: 0.0285 - tp: 482747.0000 - fp: 24846.0000 - tn: 466528.0000 - fn: 8919.0000 - accuracy: 0.9657 - precision: 0.9511 - recall: 0.9819 - auc: 0.9881 - prc: 0.9823 - val_loss: 0.2205 - val_cross entropy: 0.2205 - val_Brier score: 0.0625 - val_tp: 241.0000 - val_fp: 2060290.0000 - val_tn: 24089948.0000 - val_fn: 0.0000e+00 - val_accuracy: 0.9212 - val_precision: 1.1696e-04 - val_recall: 1.0000 - val_auc: 0.9937 - val_prc: 9.9955e-04\n",
      "Epoch 25/300\n",
      "60/60 [==============================] - 37s 622ms/step - loss: 0.1118 - cross entropy: 0.1118 - Brier score: 0.0281 - tp: 482710.0000 - fp: 24466.0000 - tn: 467022.0000 - fn: 8842.0000 - accuracy: 0.9661 - precision: 0.9518 - recall: 0.9820 - auc: 0.9883 - prc: 0.9824 - val_loss: 0.0227 - val_cross entropy: 0.0227 - val_Brier score: 0.0062 - val_tp: 173.0000 - val_fp: 213586.0000 - val_tn: 25936684.0000 - val_fn: 68.0000 - val_accuracy: 0.9918 - val_precision: 8.0932e-04 - val_recall: 0.7178 - val_auc: 0.9936 - val_prc: 9.6302e-04\n",
      "Epoch 26/300\n",
      "60/60 [==============================] - 36s 618ms/step - loss: 0.1106 - cross entropy: 0.1106 - Brier score: 0.0279 - tp: 483161.0000 - fp: 24654.0000 - tn: 466624.0000 - fn: 8601.0000 - accuracy: 0.9662 - precision: 0.9515 - recall: 0.9825 - auc: 0.9885 - prc: 0.9830 - val_loss: 0.0226 - val_cross entropy: 0.0226 - val_Brier score: 0.0061 - val_tp: 167.0000 - val_fp: 205776.0000 - val_tn: 25944484.0000 - val_fn: 74.0000 - val_accuracy: 0.9921 - val_precision: 8.1090e-04 - val_recall: 0.6929 - val_auc: 0.9932 - val_prc: 8.8098e-04\n",
      "Epoch 27/300\n",
      "60/60 [==============================] - 38s 640ms/step - loss: 0.1108 - cross entropy: 0.1108 - Brier score: 0.0279 - tp: 483733.0000 - fp: 24639.0000 - tn: 466092.0000 - fn: 8576.0000 - accuracy: 0.9662 - precision: 0.9515 - recall: 0.9826 - auc: 0.9885 - prc: 0.9828 - val_loss: 0.0165 - val_cross entropy: 0.0165 - val_Brier score: 0.0043 - val_tp: 149.0000 - val_fp: 145936.0000 - val_tn: 26004320.0000 - val_fn: 92.0000 - val_accuracy: 0.9944 - val_precision: 0.0010 - val_recall: 0.6183 - val_auc: 0.9937 - val_prc: 9.9520e-04\n",
      "Epoch 28/300\n",
      "60/60 [==============================] - 38s 640ms/step - loss: 0.1098 - cross entropy: 0.1098 - Brier score: 0.0276 - tp: 483695.0000 - fp: 24478.0000 - tn: 466478.0000 - fn: 8389.0000 - accuracy: 0.9666 - precision: 0.9518 - recall: 0.9830 - auc: 0.9886 - prc: 0.9828 - val_loss: 0.0278 - val_cross entropy: 0.0278 - val_Brier score: 0.0077 - val_tp: 185.0000 - val_fp: 266629.0000 - val_tn: 25883640.0000 - val_fn: 56.0000 - val_accuracy: 0.9898 - val_precision: 6.9337e-04 - val_recall: 0.7676 - val_auc: 0.9929 - val_prc: 8.6225e-04\n",
      "Epoch 29/300\n",
      "60/60 [==============================] - 40s 683ms/step - loss: 0.1086 - cross entropy: 0.1086 - Brier score: 0.0274 - tp: 483704.0000 - fp: 24298.0000 - tn: 466707.0000 - fn: 8331.0000 - accuracy: 0.9668 - precision: 0.9522 - recall: 0.9831 - auc: 0.9888 - prc: 0.9833 - val_loss: 0.0972 - val_cross entropy: 0.0972 - val_Brier score: 0.0290 - val_tp: 240.0000 - val_fp: 1009286.0000 - val_tn: 25140958.0000 - val_fn: 1.0000 - val_accuracy: 0.9614 - val_precision: 2.3774e-04 - val_recall: 0.9959 - val_auc: 0.9933 - val_prc: 9.1807e-04\n",
      "Epoch 30/300\n",
      "60/60 [==============================] - 37s 623ms/step - loss: 0.1074 - cross entropy: 0.1074 - Brier score: 0.0271 - tp: 484116.0000 - fp: 24250.0000 - tn: 466541.0000 - fn: 8133.0000 - accuracy: 0.9671 - precision: 0.9523 - recall: 0.9835 - auc: 0.9890 - prc: 0.9836 - val_loss: 0.0091 - val_cross entropy: 0.0091 - val_Brier score: 0.0023 - val_tp: 103.0000 - val_fp: 78547.0000 - val_tn: 26071724.0000 - val_fn: 138.0000 - val_accuracy: 0.9970 - val_precision: 0.0013 - val_recall: 0.4274 - val_auc: 0.9940 - val_prc: 0.0010\n"
     ]
    },
    {
     "name": "stdout",
     "output_type": "stream",
     "text": [
      "Epoch 31/300\n",
      "60/60 [==============================] - ETA: 0s - loss: 0.1062 - cross entropy: 0.1062 - Brier score: 0.0267 - tp: 482985.0000 - fp: 23868.0000 - tn: 468137.0000 - fn: 8050.0000 - accuracy: 0.9675 - precision: 0.9529 - recall: 0.9836 - auc: 0.9892 - prc: 0.9838Restoring model weights from the end of the best epoch: 11.\n",
      "60/60 [==============================] - 34s 569ms/step - loss: 0.1062 - cross entropy: 0.1062 - Brier score: 0.0267 - tp: 482985.0000 - fp: 23868.0000 - tn: 468137.0000 - fn: 8050.0000 - accuracy: 0.9675 - precision: 0.9529 - recall: 0.9836 - auc: 0.9892 - prc: 0.9838 - val_loss: 0.0589 - val_cross entropy: 0.0589 - val_Brier score: 0.0182 - val_tp: 234.0000 - val_fp: 660309.0000 - val_tn: 25489946.0000 - val_fn: 7.0000 - val_accuracy: 0.9747 - val_precision: 3.5425e-04 - val_recall: 0.9710 - val_auc: 0.9943 - val_prc: 0.0011\n",
      "Epoch 31: early stopping\n"
     ]
    }
   ],
   "source": [
    "resampled_model = make_model(output_bias=initial_bias)\n",
    "\n",
    "output_layer = resampled_model.layers[-1] \n",
    "output_layer.bias.assign([0])\n",
    "\n",
    "val_ds = tf.data.Dataset.from_tensor_slices((val_features, val_labels)).cache()\n",
    "val_ds = val_ds.batch(BATCH_SIZE).prefetch(2) \n",
    "\n",
    "resampled_history = resampled_model.fit(\n",
    "    resampled_ds,\n",
    "    # These are not real epochs\n",
    "    steps_per_epoch= 60,\n",
    "    epochs=3*EPOCHS,\n",
    "    callbacks=[early_stopping],\n",
    "    validation_data=(val_ds))\n",
    "\n"
   ]
  },
  {
   "cell_type": "code",
   "execution_count": 24,
   "id": "9c496a90",
   "metadata": {},
   "outputs": [
    {
     "data": {
      "text/plain": [
       "<keras.callbacks.History at 0x1d0f0f404f0>"
      ]
     },
     "execution_count": 24,
     "metadata": {},
     "output_type": "execute_result"
    }
   ],
   "source": [
    "resampled_history"
   ]
  },
  {
   "cell_type": "code",
   "execution_count": 23,
   "id": "a8571ed2",
   "metadata": {},
   "outputs": [
    {
     "name": "stdout",
     "output_type": "stream",
     "text": [
      "12769/12769 [==============================] - 34s 3ms/step\n",
      "3193/3193 [==============================] - 8s 3ms/step\n",
      "3991/3991 [==============================] - 11s 3ms/step\n"
     ]
    }
   ],
   "source": [
    "train_predictions_resampled = resampled_model.predict(train_features, batch_size=BATCH_SIZE)\n",
    "valid_predictions_resampled = resampled_model.predict(val_features, batch_size=BATCH_SIZE)\n",
    "test_predictions_resampled = resampled_model.predict(test_features, batch_size=BATCH_SIZE)\n"
   ]
  },
  {
   "cell_type": "code",
   "execution_count": 33,
   "id": "18aed6f9",
   "metadata": {},
   "outputs": [
    {
     "name": "stdout",
     "output_type": "stream",
     "text": [
      "Not Hurricane (True Negatives):  31947144\n",
      "False Hurricane Predcition (False Positives):  740655\n",
      "Missed Hurricane (False Negatives):  16\n",
      "Hurricanes Found (True Positives):  301\n",
      "Total Hurricanes:  317\n"
     ]
    },
    {
     "data": {
      "image/png": "[encoded data removed]",
      "text/plain": [
       "<Figure size 500x500 with 2 Axes>"
      ]
     },
     "metadata": {},
     "output_type": "display_data"
    }
   ],
   "source": [
    "plot_cm(test_labels, test_predictions_resampled)"
   ]
  },
  {
   "cell_type": "code",
   "execution_count": 34,
   "id": "39b2245e",
   "metadata": {},
   "outputs": [
    {
     "name": "stdout",
     "output_type": "stream",
     "text": [
      "Not Hurricane (True Negatives):  102233793\n",
      "False Hurricane Predcition (False Positives):  2367195\n",
      "Missed Hurricane (False Negatives):  46\n",
      "Hurricanes Found (True Positives):  934\n",
      "Total Hurricanes:  980\n"
     ]
    },
    {
     "data": {
      "image/png": "[encoded data removed]",
      "text/plain": [
       "<Figure size 500x500 with 2 Axes>"
      ]
     },
     "metadata": {},
     "output_type": "display_data"
    }
   ],
   "source": [
    "plot_cm(train_labels, train_predictions_resampled)"
   ]
  },
  {
   "cell_type": "code",
   "execution_count": 35,
   "id": "7d1c6ba5",
   "metadata": {},
   "outputs": [
    {
     "name": "stdout",
     "output_type": "stream",
     "text": [
      "Not Hurricane (True Negatives):  25558381\n",
      "False Hurricane Predcition (False Positives):  591883\n",
      "Missed Hurricane (False Negatives):  4\n",
      "Hurricanes Found (True Positives):  224\n",
      "Total Hurricanes:  228\n"
     ]
    },
    {
     "data": {
      "image/png": "[encoded data removed]",
      "text/plain": [
       "<Figure size 500x500 with 2 Axes>"
      ]
     },
     "metadata": {},
     "output_type": "display_data"
    }
   ],
   "source": [
    "plot_cm(val_labels, valid_predictions_resampled)"
   ]
  },
  {
   "cell_type": "code",
   "execution_count": null,
   "id": "26296fa6",
   "metadata": {},
   "outputs": [],
   "source": [
    "newdf = cleaned_df.copy()\n",
    "full = np.array(newdf)\n",
    "newdfl = = np.array(newdf.pop('Hurricane'))\n",
    "plot_cm(newdf1, valid_predictions_resampled)"
   ]
  },
  {
   "cell_type": "code",
   "execution_count": 31,
   "id": "50f8157d",
   "metadata": {},
   "outputs": [],
   "source": [
    "resampled_model.save('LesserSampledHierarchalFullData6.keras')"
   ]
  },
  {
   "cell_type": "code",
   "execution_count": null,
   "id": "570089bb",
   "metadata": {},
   "outputs": [],
   "source": []
  }
 ],
 "metadata": {
  "kernelspec": {
   "display_name": "tensorflow",
   "language": "python",
   "name": "tensorflow"
  },
  "language_info": {
   "codemirror_mode": {
    "name": "ipython",
    "version": 3
   },
   "file_extension": ".py",
   "mimetype": "text/x-python",
   "name": "python",
   "nbconvert_exporter": "python",
   "pygments_lexer": "ipython3",
   "version": "3.9.18"
  }
 },
 "nbformat": 4,
 "nbformat_minor": 5
}
